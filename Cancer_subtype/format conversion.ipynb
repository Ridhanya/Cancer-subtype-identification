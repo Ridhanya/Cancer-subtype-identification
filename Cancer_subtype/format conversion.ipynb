{
 "cells": [
  {
   "cell_type": "code",
   "execution_count": 42,
   "metadata": {
    "pycharm": {
     "is_executing": false
    }
   },
   "outputs": [],
   "source": [
    "import glob\n",
    "import math\n",
    "import matplotlib.pyplot as plt\n",
    "import multiprocessing\n",
    "import numpy as np\n",
    "import openslide\n",
    "from openslide import OpenSlideError\n",
    "import os\n",
    "import PIL\n",
    "from PIL import Image, ImageDraw, ImageFont\n",
    "import re\n",
    "import sys\n",
    "import numpy as np\n",
    "import scipy.ndimage.morphology as sc_morph\n",
    "import skimage.color as sk_color\n",
    "import skimage.exposure as sk_exposure\n",
    "import skimage.feature as sk_feature\n",
    "import skimage.filters as sk_filters\n",
    "import skimage.future as sk_future\n",
    "import skimage.morphology as sk_morphology\n",
    "import skimage.segmentation as sk_segmentation\n",
    "from enum import Enum\n",
    "import colorsys"
   ]
  },
  {
   "cell_type": "code",
   "execution_count": 93,
   "metadata": {},
   "outputs": [
    {
     "data": {
      "text/plain": [
       "'./tile_images'"
      ]
     },
     "execution_count": 93,
     "metadata": {},
     "output_type": "execute_result"
    }
   ],
   "source": [
    "np.random.seed(0)\n",
    "BASE_DIR = os.path.join(\".\",\"tcga_images\")\n",
    "SLIDE_IMG= os.path.join(\".\",\"tcga_images\",\"TCGA-3P-A9WA-01A-01-TS1.EC84245E-56A9-46C1-9496-CCF2587D318E.svs\")\n",
    "SRC_TRAIN_DIR = os.path.join(\".\",\"training_png\")\n",
    "SCALE_FACTOR = 32\n",
    "DEST_TRAIN_EXT = \"png\"\n",
    "SRC_TRAIN_EXT = \"svs\"\n",
    "DEST_TRAIN_DIR = os.path.join(\"training_\" + DEST_TRAIN_EXT)\n",
    "\n",
    "FILTER_RESULT_TEXT = \"filtered\"\n",
    "FILTER_DIR = os.path.join(\"filter_\" + DEST_TRAIN_EXT)\n",
    "FILTER_PAGINATION_SIZE = 50\n",
    "FILTER_PAGINATE = True\n",
    "\n",
    "TILE_SUMMARY_DIR = os.path.join(\".\",\"tile_summary_\" + DEST_TRAIN_EXT)\n",
    "TILE_SUMMARY_PAGINATION_SIZE = 50\n",
    "TILE_SUMMARY_PAGINATE = True\n",
    "TILE_SUMMARY_HTML_DIR = BASE_DIR\n",
    "\n",
    "TILE_DATA_DIR = os.path.join(\".\", \"tile_data\")\n",
    "TILE_DATA_SUFFIX = \"tile_data\"\n",
    "TILE_DIR = os.path.join(\".\", \"tile_images\")\n",
    "TILE_DIR"
   ]
  },
  {
   "cell_type": "code",
   "execution_count": 32,
   "metadata": {},
   "outputs": [],
   "source": [
    "TISSUE_HIGH_THRESH = 80\n",
    "TISSUE_LOW_THRESH = 10\n",
    "\n",
    "ROW_TILE_SIZE = 1024\n",
    "COL_TILE_SIZE = 1024\n",
    "NUM_TOP_TILES = 50\n",
    "\n",
    "DISPLAY_TILE_SUMMARY_LABELS = False\n",
    "TILE_LABEL_TEXT_SIZE = 10\n",
    "LABEL_ALL_TILES_IN_TOP_TILE_SUMMARY = False\n",
    "BORDER_ALL_TILES_IN_TOP_TILE_SUMMARY = False\n",
    "\n",
    "TILE_BORDER_SIZE = 2  \n",
    "\n",
    "HIGH_COLOR = (0, 255, 0)\n",
    "MEDIUM_COLOR = (255, 255, 0)\n",
    "LOW_COLOR = (255, 165, 0)\n",
    "NONE_COLOR = (255, 0, 0)\n",
    "\n",
    "FADED_THRESH_COLOR = (128, 255, 128)\n",
    "FADED_MEDIUM_COLOR = (255, 255, 128)\n",
    "FADED_LOW_COLOR = (255, 210, 128)\n",
    "FADED_NONE_COLOR = (255, 128, 128)\n",
    "\n",
    "FONT_PATH = \"/Library/Fonts/Arial Bold.ttf\"\n",
    "SUMMARY_TITLE_FONT_PATH = \"/Library/Fonts/Courier New Bold.ttf\"\n",
    "SUMMARY_TITLE_TEXT_COLOR = (0, 0, 0)\n",
    "SUMMARY_TITLE_TEXT_SIZE = 24\n",
    "SUMMARY_TILE_TEXT_COLOR = (255, 255, 255)\n",
    "TILE_TEXT_COLOR = (0, 0, 0)\n",
    "TILE_TEXT_SIZE = 36\n",
    "TILE_TEXT_BACKGROUND_COLOR = (255, 255, 255)\n",
    "TILE_TEXT_W_BORDER = 5\n",
    "TILE_TEXT_H_BORDER = 4\n",
    "\n",
    "HSV_PURPLE = 270\n",
    "HSV_PINK = 330"
   ]
  },
  {
   "cell_type": "code",
   "execution_count": 4,
   "metadata": {},
   "outputs": [
    {
     "data": {
      "text/plain": [
       "'TCGA-13-2071-01A-02-BS2.f6520f68-3a61-4799-8ab1-6998727698e2.svs'"
      ]
     },
     "execution_count": 4,
     "metadata": {},
     "output_type": "execute_result"
    }
   ],
   "source": [
    "files = os.listdir(BASE_DIR)\n",
    "files[5]"
   ]
  },
  {
   "cell_type": "code",
   "execution_count": 5,
   "metadata": {},
   "outputs": [],
   "source": [
    "def get_train_prefix(slide_num):\n",
    "    strObj = files[slide_num]\n",
    "    start = 23\n",
    "    stop = len(files[slide_num])\n",
    "    strObj = strObj[0: start:] + strObj[stop + 1::]\n",
    "    return strObj"
   ]
  },
  {
   "cell_type": "code",
   "execution_count": 6,
   "metadata": {},
   "outputs": [],
   "source": [
    "def open_slide(slide_num):\n",
    "    try:\n",
    "        slide = openslide.open_slide(os.path.join(BASE_DIR,files[slide_num]))\n",
    "    except OpenSlideError:\n",
    "        slide = print(\"Cannot open slide\")\n",
    "    except FileNotFoundError:\n",
    "        slide = print(\"File not found\")\n",
    "    return slide"
   ]
  },
  {
   "cell_type": "code",
   "execution_count": 7,
   "metadata": {},
   "outputs": [],
   "source": [
    "def slide_to_scaled_pil_image(slide_num):\n",
    "        slide = open_slide(slide_num)\n",
    "        large_w, large_h = slide.dimensions\n",
    "        new_w = math.floor(large_w / SCALE_FACTOR)\n",
    "        new_h = math.floor(large_h / SCALE_FACTOR)\n",
    "        level = slide.get_best_level_for_downsample(SCALE_FACTOR)\n",
    "        whole_slide_image = slide.read_region((0, 0), level, slide.level_dimensions[level])\n",
    "        whole_slide_image = whole_slide_image.convert(\"RGB\")\n",
    "        img = whole_slide_image.resize((new_w, new_h), PIL.Image.BILINEAR)\n",
    "        return img, large_w, large_h, new_w, new_h"
   ]
  },
  {
   "cell_type": "code",
   "execution_count": 8,
   "metadata": {},
   "outputs": [],
   "source": [
    "def training_slide_to_image(slide_num):\n",
    "    img, large_w, large_h, new_w, new_h = slide_to_scaled_pil_image(slide_num)\n",
    "    img_path = os.path.join(DEST_TRAIN_DIR, get_train_prefix(slide_num) + \".\" + DEST_TRAIN_EXT)\n",
    "    if not os.path.exists(DEST_TRAIN_DIR):\n",
    "        os.makedirs(DEST_TRAIN_DIR)\n",
    "    img.save(img_path)\n",
    "    print(\"Saving image to: \" + img_path)"
   ]
  },
  {
   "cell_type": "code",
   "execution_count": 9,
   "metadata": {},
   "outputs": [],
   "source": [
    "def training_slide_range_to_images(start_ind, end_ind):\n",
    "    for slide_num in range(start_ind, end_ind):\n",
    "        training_slide_to_image(slide_num)\n",
    "    return (start_ind, end_ind)"
   ]
  },
  {
   "cell_type": "code",
   "execution_count": 10,
   "metadata": {},
   "outputs": [],
   "source": [
    "def multiprocess_training_slides_to_images():\n",
    "    num_processes = multiprocessing.cpu_count()\n",
    "    pool = multiprocessing.Pool(num_processes)\n",
    "\n",
    "    num_train_images = len(files)\n",
    "    if num_processes > num_train_images:\n",
    "        num_processes = num_train_images\n",
    "    images_per_process = num_train_images / num_processes\n",
    "\n",
    "    print(\"Number of processes: \" + str(num_processes))\n",
    "    print(\"Number of training images: \" + str(num_train_images))\n",
    "\n",
    "    tasks = []\n",
    "    for num_process in range(1, num_processes + 1):\n",
    "        start_index = (num_process - 1) * images_per_process \n",
    "        end_index = num_process * images_per_process \n",
    "        start_index = int(start_index)\n",
    "        end_index = int(end_index)\n",
    "        tasks.append((start_index, end_index))\n",
    "        if start_index == end_index:\n",
    "            print(\"Task #\" + str(num_process) + \": Process slide \" + str(start_index))\n",
    "        else:\n",
    "            print(\"Task #\" + str(num_process) + \": Process slides \" + str(start_index) + \" to \" + str(end_index))\n",
    "\n",
    "    results = []\n",
    "    for t in tasks:\n",
    "        results.append(pool.apply_async(training_slide_range_to_images, t))\n",
    "    \n",
    "    for result in results:\n",
    "        (start_ind, end_ind) = result.get()\n",
    "        if start_ind == end_ind:\n",
    "            print(\"Done converting slide %d\" % start_ind)\n",
    "        else:\n",
    "            print(\"Done converting slides %d through %d\" % (start_ind, end_ind))"
   ]
  },
  {
   "cell_type": "code",
   "execution_count": null,
   "metadata": {},
   "outputs": [],
   "source": []
  },
  {
   "cell_type": "code",
   "execution_count": 11,
   "metadata": {},
   "outputs": [],
   "source": [
    "def get_training_image_path(slide_num):\n",
    "    training_pngs = os.path.join(SRC_TRAIN_DIR, get_train_prefix(slide_num) + \".\" + DEST_TRAIN_EXT)\n",
    "    return training_pngs"
   ]
  },
  {
   "cell_type": "code",
   "execution_count": 12,
   "metadata": {},
   "outputs": [],
   "source": [
    "def open_image(filename):\n",
    "    image = Image.open(filename)\n",
    "    return image"
   ]
  },
  {
   "cell_type": "code",
   "execution_count": 13,
   "metadata": {},
   "outputs": [],
   "source": [
    "def pil_to_np_rgb(pil_img):\n",
    "    rgb = np.asarray(pil_img)\n",
    "    return rgb"
   ]
  },
  {
   "cell_type": "code",
   "execution_count": 14,
   "metadata": {},
   "outputs": [],
   "source": [
    "def open_image_np(filename):\n",
    "    pil_img = open_image(filename)\n",
    "    np_img = pil_to_np_rgb(pil_img)\n",
    "    return np_img"
   ]
  },
  {
   "cell_type": "code",
   "execution_count": 15,
   "metadata": {},
   "outputs": [],
   "source": [
    "def save_filtered_image(np_img, slide_num):\n",
    "    filepath = get_filter_image_path(slide_num)\n",
    "    pil_img = np_to_pil(np_img)\n",
    "    pil_img.save(filepath)\n",
    "  "
   ]
  },
  {
   "cell_type": "code",
   "execution_count": 16,
   "metadata": {},
   "outputs": [],
   "source": [
    "def mask_percentage_text(mask_percentage):\n",
    "    return \"%3.2f%%\" % mask_percentage"
   ]
  },
  {
   "cell_type": "code",
   "execution_count": 17,
   "metadata": {
    "pycharm": {
     "name": "#%%\n"
    }
   },
   "outputs": [],
   "source": [
    "def save_display(save, display, info, np_img, slide_num, filter_num, display_text, file_text,display_mask_percentage=True):\n",
    "    mask_percentage = None\n",
    "    if display_mask_percentage:\n",
    "        mask_percentage = mask_percent(np_img)\n",
    "        display_text = display_text + \"\\n(\" + mask_percentage_text(mask_percentage) + \" masked)\"\n",
    "    if slide_num is None and filter_num is None:\n",
    "        pass\n",
    "    elif filter_num is None:\n",
    "        display_text = \"S%03d \" % slide_num + display_text\n",
    "    elif slide_num is None:\n",
    "        display_text = \"F%03d \" % filter_num + display_text\n",
    "    else:\n",
    "        display_text = \"S%03d-F%03d \" % (slide_num, filter_num) + display_text\n",
    "    if display:\n",
    "        display_img(np_img, display_text)\n",
    "    if save:\n",
    "        save_filtered_image(np_img, slide_num)\n",
    "    if info is not None:\n",
    "        info[slide_num * 1000 + filter_num] = (slide_num, filter_num, display_text, file_text, mask_percentage)"
   ]
  },
  {
   "cell_type": "code",
   "execution_count": 18,
   "metadata": {},
   "outputs": [],
   "source": [
    "def np_to_pil(np_img):\n",
    "    if np_img.dtype == \"bool\":\n",
    "        np_img = np_img.astype(\"uint8\") * 255\n",
    "    elif np_img.dtype == \"float64\":\n",
    "        np_img = (np_img * 255).astype(\"uint8\")\n",
    "    return Image.fromarray(np_img)"
   ]
  },
  {
   "cell_type": "code",
   "execution_count": 19,
   "metadata": {
    "pycharm": {
     "name": "#%%\n"
    }
   },
   "outputs": [],
   "source": [
    "def display_img(np_img, text=None, font_path=\"/Library/Fonts/Arial Bold.ttf\", size=48, color=(255, 0, 0),background=(255, 255, 255), border=(0, 0, 0), bg=False):\n",
    "    result = np_to_pil(np_img)\n",
    "    if result.mode == 'L':\n",
    "        result = result.convert('RGB')\n",
    "        draw = ImageDraw.Draw(result)\n",
    "    if text is not None:\n",
    "        font = ImageFont.truetype(font_path, size)\n",
    "    if bg:\n",
    "        (x, y) = draw.textsize(text, font)\n",
    "        draw.rectangle([(0, 0), (x + 5, y + 4)], fill=background, outline=border)\n",
    "        draw.text((2, 0), text, color, font=font)\n",
    "    result.show()"
   ]
  },
  {
   "cell_type": "code",
   "execution_count": 20,
   "metadata": {
    "pycharm": {
     "name": "#%%\n"
    }
   },
   "outputs": [],
   "source": [
    "def mask_percent(np_img):\n",
    "    if (len(np_img.shape) == 3) and (np_img.shape[2] == 3):\n",
    "        np_sum = np_img[:, :, 0] + np_img[:, :, 1] + np_img[:, :, 2]\n",
    "        mask_percentage = 100 - np.count_nonzero(np_sum) / np_sum.size * 100\n",
    "    else:\n",
    "        mask_percentage = 100 - np.count_nonzero(np_img) / np_img.size * 100\n",
    "    return mask_percentage"
   ]
  },
  {
   "cell_type": "code",
   "execution_count": 21,
   "metadata": {
    "pycharm": {
     "name": "#%%\n"
    }
   },
   "outputs": [],
   "source": [
    "def filter_grays(rgb, tolerance=15, output_type=\"bool\"):\n",
    "    (h, w, c) = rgb.shape\n",
    "    rgb = rgb.astype(np.int)\n",
    "    rg_diff = abs(rgb[:, :, 0] - rgb[:, :, 1]) <= tolerance\n",
    "    rb_diff = abs(rgb[:, :, 0] - rgb[:, :, 2]) <= tolerance\n",
    "    gb_diff = abs(rgb[:, :, 1] - rgb[:, :, 2]) <= tolerance\n",
    "    result = ~(rg_diff & rb_diff & gb_diff)\n",
    "\n",
    "    if output_type == \"bool\":\n",
    "        pass\n",
    "    elif output_type == \"float\":\n",
    "        result = result.astype(float)\n",
    "    else:\n",
    "        result = result.astype(\"uint8\") * 255\n",
    "    return result"
   ]
  },
  {
   "cell_type": "code",
   "execution_count": 22,
   "metadata": {},
   "outputs": [],
   "source": [
    "def filter_red(rgb, red_lower_thresh, green_upper_thresh, blue_upper_thresh, output_type=\"bool\",display_np_info=False):\n",
    "    if display_np_info:\n",
    "        t = Time()\n",
    "    r = rgb[:, :, 0] > red_lower_thresh\n",
    "    g = rgb[:, :, 1] < green_upper_thresh\n",
    "    b = rgb[:, :, 2] < blue_upper_thresh\n",
    "    result = ~(r & g & b)\n",
    "    if output_type == \"bool\":\n",
    "        pass\n",
    "    elif output_type == \"float\":\n",
    "        result = result.astype(float)\n",
    "    else:\n",
    "        result = result.astype(\"uint8\") * 255\n",
    "    if display_np_info:\n",
    "        np_info(result, \"Filter Red\", t.elapsed())\n",
    "    return result"
   ]
  },
  {
   "cell_type": "code",
   "execution_count": 82,
   "metadata": {
    "pycharm": {
     "name": "#%%\n"
    }
   },
   "outputs": [],
   "source": [
    "def filter_red_pen(rgb, output_type=\"bool\"):\n",
    "    result = filter_red(rgb, red_lower_thresh=150, green_upper_thresh=80, blue_upper_thresh=90) & \\\n",
    "               filter_red(rgb, red_lower_thresh=110, green_upper_thresh=20, blue_upper_thresh=30) & \\\n",
    "               filter_red(rgb, red_lower_thresh=185, green_upper_thresh=65, blue_upper_thresh=105) & \\\n",
    "               filter_red(rgb, red_lower_thresh=195, green_upper_thresh=85, blue_upper_thresh=125) & \\\n",
    "               filter_red(rgb, red_lower_thresh=220, green_upper_thresh=115, blue_upper_thresh=145) & \\\n",
    "               filter_red(rgb, red_lower_thresh=125, green_upper_thresh=40, blue_upper_thresh=70) & \\\n",
    "               filter_red(rgb, red_lower_thresh=200, green_upper_thresh=120, blue_upper_thresh=150) & \\\n",
    "               filter_red(rgb, red_lower_thresh=100, green_upper_thresh=50, blue_upper_thresh=65) & \\\n",
    "               filter_red(rgb, red_lower_thresh=85, green_upper_thresh=25, blue_upper_thresh=45)\n",
    "    if output_type == \"bool\":\n",
    "        pass\n",
    "    elif output_type == \"float\":\n",
    "        result = result.astype(float)\n",
    "    else:\n",
    "        result = result.astype(\"uint8\") * 255\n",
    "    return result"
   ]
  },
  {
   "cell_type": "code",
   "execution_count": 91,
   "metadata": {},
   "outputs": [],
   "source": [
    "\n",
    "def filter_green(rgb, red_upper_thresh, green_lower_thresh, blue_lower_thresh, output_type=\"bool\",display_np_info=False):\n",
    "    if display_np_info:\n",
    "        t = Time()\n",
    "    r = rgb[:, :, 0] < red_upper_thresh\n",
    "    g = rgb[:, :, 1] > green_lower_thresh\n",
    "    b = rgb[:, :, 2] > blue_lower_thresh\n",
    "    result = ~(r & g & b)\n",
    "    if output_type == \"bool\":\n",
    "        pass\n",
    "    elif output_type == \"float\":\n",
    "        result = result.astype(float)\n",
    "    else:\n",
    "        result = result.astype(\"uint8\") * 255\n",
    "    if display_np_info:\n",
    "        np_info(result, \"Filter Green\", t.elapsed())\n",
    "    return result"
   ]
  },
  {
   "cell_type": "code",
   "execution_count": 83,
   "metadata": {
    "pycharm": {
     "name": "#%%\n"
    }
   },
   "outputs": [],
   "source": [
    "def filter_green_pen(rgb, output_type=\"bool\"):\n",
    "    result = filter_green(rgb, red_upper_thresh=150, green_lower_thresh=160, blue_lower_thresh=140) & \\\n",
    "               filter_green(rgb, red_upper_thresh=70, green_lower_thresh=110, blue_lower_thresh=110) & \\\n",
    "               filter_green(rgb, red_upper_thresh=45, green_lower_thresh=115, blue_lower_thresh=100) & \\\n",
    "               filter_green(rgb, red_upper_thresh=30, green_lower_thresh=75, blue_lower_thresh=60) & \\\n",
    "               filter_green(rgb, red_upper_thresh=195, green_lower_thresh=220, blue_lower_thresh=210) & \\\n",
    "               filter_green(rgb, red_upper_thresh=225, green_lower_thresh=230, blue_lower_thresh=225) & \\\n",
    "               filter_green(rgb, red_upper_thresh=170, green_lower_thresh=210, blue_lower_thresh=200) & \\\n",
    "               filter_green(rgb, red_upper_thresh=20, green_lower_thresh=30, blue_lower_thresh=20) & \\\n",
    "               filter_green(rgb, red_upper_thresh=50, green_lower_thresh=60, blue_lower_thresh=40) & \\\n",
    "               filter_green(rgb, red_upper_thresh=30, green_lower_thresh=50, blue_lower_thresh=35) & \\\n",
    "               filter_green(rgb, red_upper_thresh=65, green_lower_thresh=70, blue_lower_thresh=60) & \\\n",
    "               filter_green(rgb, red_upper_thresh=100, green_lower_thresh=110, blue_lower_thresh=105) & \\\n",
    "               filter_green(rgb, red_upper_thresh=165, green_lower_thresh=180, blue_lower_thresh=180) & \\\n",
    "               filter_green(rgb, red_upper_thresh=140, green_lower_thresh=140, blue_lower_thresh=150) & \\\n",
    "               filter_green(rgb, red_upper_thresh=185, green_lower_thresh=195, blue_lower_thresh=195)\n",
    "    if output_type == \"bool\":\n",
    "        pass\n",
    "    elif output_type == \"float\":\n",
    "        result = result.astype(float)\n",
    "    else:\n",
    "        result = result.astype(\"uint8\") * 255\n",
    "    return result"
   ]
  },
  {
   "cell_type": "code",
   "execution_count": 89,
   "metadata": {},
   "outputs": [],
   "source": [
    "def filter_blue(rgb, red_upper_thresh, green_upper_thresh, blue_lower_thresh, output_type=\"bool\",display_np_info=False):\n",
    "    if display_np_info:\n",
    "        t = Time()\n",
    "    r = rgb[:, :, 0] < red_upper_thresh\n",
    "    g = rgb[:, :, 1] < green_upper_thresh\n",
    "    b = rgb[:, :, 2] > blue_lower_thresh\n",
    "    result = ~(r & g & b)\n",
    "    if output_type == \"bool\":\n",
    "        pass\n",
    "    elif output_type == \"float\":\n",
    "        result = result.astype(float)\n",
    "    else:\n",
    "        result = result.astype(\"uint8\") * 255\n",
    "    if display_np_info:\n",
    "        np_info(result, \"Filter Blue\", t.elapsed())\n",
    "    return result"
   ]
  },
  {
   "cell_type": "code",
   "execution_count": 84,
   "metadata": {
    "pycharm": {
     "name": "#%%\n"
    }
   },
   "outputs": [],
   "source": [
    "def filter_blue_pen(rgb, output_type=\"bool\"):\n",
    "    result = filter_blue(rgb, red_upper_thresh=60, green_upper_thresh=120, blue_lower_thresh=190) & \\\n",
    "               filter_blue(rgb, red_upper_thresh=120, green_upper_thresh=170, blue_lower_thresh=200) & \\\n",
    "               filter_blue(rgb, red_upper_thresh=175, green_upper_thresh=210, blue_lower_thresh=230) & \\\n",
    "               filter_blue(rgb, red_upper_thresh=145, green_upper_thresh=180, blue_lower_thresh=210) & \\\n",
    "               filter_blue(rgb, red_upper_thresh=37, green_upper_thresh=95, blue_lower_thresh=160) & \\\n",
    "               filter_blue(rgb, red_upper_thresh=30, green_upper_thresh=65, blue_lower_thresh=130) & \\\n",
    "               filter_blue(rgb, red_upper_thresh=130, green_upper_thresh=155, blue_lower_thresh=180) & \\\n",
    "               filter_blue(rgb, red_upper_thresh=40, green_upper_thresh=35, blue_lower_thresh=85) & \\\n",
    "               filter_blue(rgb, red_upper_thresh=30, green_upper_thresh=20, blue_lower_thresh=65) & \\\n",
    "               filter_blue(rgb, red_upper_thresh=90, green_upper_thresh=90, blue_lower_thresh=140) & \\\n",
    "               filter_blue(rgb, red_upper_thresh=60, green_upper_thresh=60, blue_lower_thresh=120) & \\\n",
    "               filter_blue(rgb, red_upper_thresh=110, green_upper_thresh=110, blue_lower_thresh=175)\n",
    "    if output_type == \"bool\":\n",
    "        pass\n",
    "    elif output_type == \"float\":\n",
    "        result = result.astype(float)\n",
    "    else:\n",
    "        result = result.astype(\"uint8\") * 255\n",
    "    return result"
   ]
  },
  {
   "cell_type": "code",
   "execution_count": 86,
   "metadata": {},
   "outputs": [],
   "source": [
    "def filter_remove_small_objects(np_img, min_size=3000, avoid_overmask=True, overmask_thresh=95, output_type=\"uint8\"):\n",
    "    rem_sm = np_img.astype(bool)  \n",
    "    rem_sm = sk_morphology.remove_small_objects(rem_sm, min_size=min_size)\n",
    "    mask_percentage = mask_percent(rem_sm)\n",
    "    if (mask_percentage >= overmask_thresh) and (min_size >= 1) and (avoid_overmask is True):\n",
    "        new_min_size = min_size / 2\n",
    "        print(\"Mask percentage %3.2f%% >= overmask threshold %3.2f%% for Remove Small Objs size %d, so try %d\" % (mask_percentage, overmask_thresh, min_size, new_min_size))\n",
    "        rem_sm = filter_remove_small_objects(np_img, new_min_size, avoid_overmask, overmask_thresh, output_type)\n",
    "    np_img = rem_sm\n",
    "\n",
    "    if output_type == \"bool\":\n",
    "        pass\n",
    "    elif output_type == \"float\":\n",
    "        np_img = np_img.astype(float)\n",
    "    else:\n",
    "        np_img = np_img.astype(\"uint8\") * 255\n",
    "    return np_img\n"
   ]
  },
  {
   "cell_type": "code",
   "execution_count": 54,
   "metadata": {
    "pycharm": {
     "name": "#%%\n"
    }
   },
   "outputs": [],
   "source": [
    "def mask_rgb(rgb, mask):\n",
    "    result = rgb * np.dstack([mask, mask, mask])\n",
    "    return result"
   ]
  },
  {
   "cell_type": "code",
   "execution_count": null,
   "metadata": {},
   "outputs": [],
   "source": [
    "def filter_green_channel(np_img, green_thresh=200, avoid_overmask=True, overmask_thresh=90, output_type=\"bool\"):\n",
    "    g = np_img[:, :, 1]\n",
    "    gr_ch_mask = (g < green_thresh) & (g > 0)\n",
    "    mask_percentage = mask_percent(gr_ch_mask)\n",
    "    if (mask_percentage >= overmask_thresh) and (green_thresh < 255) and (avoid_overmask is True):\n",
    "        new_green_thresh = math.ceil((255 - green_thresh) / 2 + green_thresh)\n",
    "        print(\"Mask percentage %3.2f%% >= overmask threshold %3.2f%% for Remove Green Channel green_thresh=%d, so try %d\" % (mask_percentage, overmask_thresh, green_thresh, new_green_thresh))\n",
    "        gr_ch_mask = filter_green_channel(np_img, new_green_thresh, avoid_overmask, overmask_thresh, output_type)\n",
    "    np_img = gr_ch_mask\n",
    "    if output_type == \"bool\":\n",
    "        pass\n",
    "    elif output_type == \"float\":\n",
    "        np_img = np_img.astype(float)\n",
    "    else:\n",
    "        np_img = np_img.astype(\"uint8\") * 255\n",
    "    return np_img"
   ]
  },
  {
   "cell_type": "code",
   "execution_count": 121,
   "metadata": {
    "pycharm": {
     "name": "#%%\n"
    }
   },
   "outputs": [],
   "source": [
    "def apply_image_filters(np_img, slide_num=None, info=None, save=False, display=False):\n",
    "    rgb = np_img\n",
    "    mask_not_green = filter_green_channel(rgb)\n",
    "    rgb_not_green = mask_rgb(rgb, mask_not_green)\n",
    "    \n",
    "    mask_not_gray = filter_grays(rgb)\n",
    "    rgb_not_gray = mask_rgb(rgb, mask_not_gray)\n",
    "\n",
    "    mask_no_red_pen = filter_red_pen(rgb)\n",
    "    rgb_no_red_pen = mask_rgb(rgb, mask_no_red_pen)\n",
    "\n",
    "    mask_no_green_pen = filter_green_pen(rgb)\n",
    "    rgb_no_green_pen = mask_rgb(rgb, mask_no_green_pen)\n",
    "\n",
    "    mask_no_blue_pen = filter_blue_pen(rgb)\n",
    "    rgb_no_blue_pen = mask_rgb(rgb, mask_no_blue_pen)\n",
    "    mask_gray_green_pens = mask_not_gray & mask_not_green & mask_no_red_pen & mask_no_green_pen & mask_no_blue_pen\n",
    "    rgb_gray_green_pens = mask_rgb(rgb, mask_gray_green_pens)\n",
    "    \n",
    "\n",
    "    mask_remove_small = filter_remove_small_objects(mask_gray_green_pens, min_size=500, output_type=\"bool\")\n",
    "    rgb_remove_small = mask_rgb(rgb, mask_remove_small)\n",
    "    not_greenish = filter_green(rgb_remove_small, red_upper_thresh=125, green_lower_thresh=30, blue_lower_thresh=30)\n",
    "    not_grayish = filter_grays(rgb_remove_small, tolerance=30)\n",
    "    rgb_new = mask_rgb(rgb, not_greenish & not_grayish)\n",
    "    img = rgb_new\n",
    "    return img"
   ]
  },
  {
   "cell_type": "code",
   "execution_count": 133,
   "metadata": {
    "pycharm": {
     "name": "#%%\n"
    }
   },
   "outputs": [],
   "source": [
    "def apply_filters_to_image(slide_num, save=True, display=False):\n",
    "    print(\"Processing slide #%d\" % slide_num)\n",
    "    if save and not os.path.exists(FILTER_DIR):\n",
    "        os.makedirs(FILTER_DIR)\n",
    "    img_path = get_training_image_path(slide_num)\n",
    "    np_orig = open_image_np(img_path)\n",
    "    filtered_np_img = apply_image_filters(np_orig, slide_num,save=save, display=display)\n",
    "    if save:\n",
    "        result_path = get_filter_image_path(slide_num)\n",
    "        pil_img = np_to_pil(filtered_np_img)\n",
    "        pil_img.save(result_path)\n",
    "    return filtered_np_img\n"
   ]
  },
  {
   "cell_type": "code",
   "execution_count": 127,
   "metadata": {},
   "outputs": [],
   "source": [
    "def apply_filters_to_image_range(start_ind, end_ind, save, display):\n",
    "    for slide_num in range(start_ind, end_ind):\n",
    "        _= apply_filters_to_image(slide_num, save=save, display=display)\n",
    "    return start_ind, end_ind"
   ]
  },
  {
   "cell_type": "code",
   "execution_count": 138,
   "metadata": {},
   "outputs": [],
   "source": [
    "def multiprocess_apply_filters_to_images(save=True, display=False):\n",
    "    print(\"Applying filters to images (multiprocess)\\n\")\n",
    "\n",
    "    if save and not os.path.exists(FILTER_DIR):\n",
    "        os.makedirs(FILTER_DIR)\n",
    "\n",
    "\n",
    "    num_processes = multiprocessing.cpu_count()\n",
    "    pool = multiprocessing.Pool(num_processes)\n",
    "    num_train_images = len(files)\n",
    "    if num_processes > num_train_images:\n",
    "        num_processes = num_train_images\n",
    "    images_per_process = num_train_images / num_processes\n",
    "\n",
    "    print(\"Number of processes: \" + str(num_processes))\n",
    "    print(\"Number of training images: \" + str(num_train_images))\n",
    "\n",
    "    tasks = []\n",
    "    for num_process in range(1, num_processes + 1):\n",
    "        start_index = (num_process - 1) * images_per_process\n",
    "        end_index = num_process * images_per_process\n",
    "        start_index = int(start_index)\n",
    "        end_index = int(end_index)\n",
    "        tasks.append((start_index, end_index, save, display))\n",
    "    if start_index == end_index:\n",
    "        print(\"Task #\" + str(num_process) + \": Process slide \" + str(start_index))\n",
    "    else:\n",
    "        print(\"Task #\" + str(num_process) + \": Process slides \" + str(start_index) + \" to \" + str(end_index))\n",
    "\n",
    "  \n",
    "    results = []\n",
    "    for t in tasks:\n",
    "        results.append(pool.apply_async(apply_filters_to_image_range, t))\n"
   ]
  },
  {
   "cell_type": "code",
   "execution_count": 24,
   "metadata": {},
   "outputs": [
    {
     "data": {
      "text/plain": [
       "'filter_png/TCGA-61-2110-01A-01-TS1.png'"
      ]
     },
     "execution_count": 24,
     "metadata": {},
     "output_type": "execute_result"
    }
   ],
   "source": [
    "def get_filter_image_path(slide_number):\n",
    "    dir = FILTER_DIR\n",
    "    if not os.path.exists(dir):\n",
    "        os.makedirs(dir)\n",
    "    img_path = os.path.join(dir, get_train_prefix(slide_number) + \".\" + DEST_TRAIN_EXT)\n",
    "    return img_path"
   ]
  },
  {
   "cell_type": "code",
   "execution_count": 89,
   "metadata": {},
   "outputs": [],
   "source": [
    "def get_tile_data_path(slide_number):\n",
    "    dir = TILE_DATA_DIR\n",
    "    if not os.path.exists(dir):\n",
    "        os.makedirs(dir)\n",
    "    img_path = os.path.join(dir, get_train_prefix(slide_number))\n",
    "    return img_path"
   ]
  },
  {
   "cell_type": "code",
   "execution_count": 29,
   "metadata": {},
   "outputs": [],
   "source": [
    "def get_image_dimensions(slide_num):\n",
    "        slide = open_slide(slide_num)\n",
    "        large_w, large_h = slide.dimensions\n",
    "        new_w = math.floor(large_w / SCALE_FACTOR)\n",
    "        new_h = math.floor(large_h / SCALE_FACTOR)\n",
    "        return large_w, large_h, new_w, new_h"
   ]
  },
  {
   "cell_type": "code",
   "execution_count": 33,
   "metadata": {},
   "outputs": [],
   "source": [
    "def get_num_tiles(rows, cols, row_tile_size, col_tile_size):\n",
    "    num_row_tiles = math.ceil(rows / row_tile_size)\n",
    "    num_col_tiles = math.ceil(cols / col_tile_size)\n",
    "    return num_row_tiles, num_col_tiles"
   ]
  },
  {
   "cell_type": "code",
   "execution_count": 34,
   "metadata": {},
   "outputs": [],
   "source": [
    "def get_tile_indices(rows, cols, row_tile_size, col_tile_size):\n",
    "    indices = list()\n",
    "    num_row_tiles, num_col_tiles = get_num_tiles(rows, cols, row_tile_size, col_tile_size)\n",
    "    for r in range(0, num_row_tiles):\n",
    "        start_r = r * row_tile_size\n",
    "        end_r = ((r + 1) * row_tile_size) if (r < num_row_tiles - 1) else rows\n",
    "        for c in range(0, num_col_tiles):\n",
    "            start_c = c * col_tile_size\n",
    "            end_c = ((c + 1) * col_tile_size) if (c < num_col_tiles - 1) else cols\n",
    "            indices.append((start_r, end_r, start_c, end_c, r + 1, c + 1))\n",
    "    return indices"
   ]
  },
  {
   "cell_type": "code",
   "execution_count": 35,
   "metadata": {},
   "outputs": [],
   "source": [
    "def tissue_percent(np_img):\n",
    "    return 100 - mask_percent(np_img)"
   ]
  },
  {
   "cell_type": "code",
   "execution_count": 77,
   "metadata": {},
   "outputs": [],
   "source": [
    "def tissue_quantity(tissue_percentage):\n",
    "    if tissue_percentage >= TISSUE_HIGH_THRESH:\n",
    "        return TissueQuantity.HIGH\n",
    "    elif (tissue_percentage >= TISSUE_LOW_THRESH) and (tissue_percentage < TISSUE_HIGH_THRESH):\n",
    "        return TissueQuantity.MEDIUM\n",
    "    elif (tissue_percentage > 0) and (tissue_percentage < TISSUE_LOW_THRESH):\n",
    "        return TissueQuantity.LOW\n",
    "    else:\n",
    "        return TissueQuantity.NONE"
   ]
  },
  {
   "cell_type": "code",
   "execution_count": 37,
   "metadata": {},
   "outputs": [],
   "source": [
    "def small_to_large_mapping(small_pixel, large_dimensions):\n",
    "    small_x, small_y = small_pixel\n",
    "    large_w, large_h = large_dimensions\n",
    "    large_x = round((large_w / SCALE_FACTOR) / math.floor(large_w / SCALE_FACTOR) * (SCALE_FACTOR * small_x))\n",
    "    large_y = round((large_h / SCALE_FACTOR) / math.floor(large_h / SCALE_FACTOR) * (SCALE_FACTOR * small_y))\n",
    "    return large_x, large_y"
   ]
  },
  {
   "cell_type": "code",
   "execution_count": 43,
   "metadata": {},
   "outputs": [],
   "source": [
    "def filter_rgb_to_hsv(np_img, display_np_info=True):\n",
    "    hsv = sk_color.rgb2hsv(np_img)\n",
    "    return hsv"
   ]
  },
  {
   "cell_type": "code",
   "execution_count": 44,
   "metadata": {},
   "outputs": [],
   "source": [
    "def filter_hsv_to_h(hsv, output_type=\"int\", display_np_info=True):\n",
    "    h = hsv[:, :, 0]\n",
    "    h = h.flatten()\n",
    "    if output_type == \"int\":\n",
    "        h *= 360\n",
    "        h = h.astype(\"int\")\n",
    "    return h"
   ]
  },
  {
   "cell_type": "code",
   "execution_count": 45,
   "metadata": {},
   "outputs": [],
   "source": [
    "def rgb_to_hues(rgb):\n",
    "    hsv = filter_rgb_to_hsv(rgb, display_np_info=False)\n",
    "    h = filter_hsv_to_h(hsv, display_np_info=False)\n",
    "    return h"
   ]
  },
  {
   "cell_type": "code",
   "execution_count": 47,
   "metadata": {},
   "outputs": [],
   "source": [
    "def hsv_purple_deviation(hsv_hues):\n",
    "    purple_deviation = np.sqrt(np.mean(np.abs(hsv_hues - HSV_PURPLE) ** 2))\n",
    "    return purple_deviation"
   ]
  },
  {
   "cell_type": "code",
   "execution_count": 48,
   "metadata": {},
   "outputs": [],
   "source": [
    "def hsv_pink_deviation(hsv_hues):\n",
    "    pink_deviation = np.sqrt(np.mean(np.abs(hsv_hues - HSV_PINK) ** 2))\n",
    "    return pink_deviation"
   ]
  },
  {
   "cell_type": "code",
   "execution_count": 50,
   "metadata": {},
   "outputs": [],
   "source": [
    "def hsv_purple_pink_factor(rgb):\n",
    "    hues = rgb_to_hues(rgb)\n",
    "    hues = hues[hues >= 260]  \n",
    "    hues = hues[hues <= 340]  \n",
    "    if len(hues) == 0:\n",
    "        return 0 \n",
    "    pu_dev = hsv_purple_deviation(hues)\n",
    "    pi_dev = hsv_pink_deviation(hues)\n",
    "    avg_factor = (340 - np.average(hues)) ** 2\n",
    "    if pu_dev == 0:  \n",
    "        return 0\n",
    "\n",
    "    factor = pi_dev / pu_dev * avg_factor\n",
    "    return factor"
   ]
  },
  {
   "cell_type": "code",
   "execution_count": 51,
   "metadata": {},
   "outputs": [],
   "source": [
    "def filter_hsv_to_s(hsv):\n",
    "    s = hsv[:, :, 1]\n",
    "    s = s.flatten()\n",
    "    return s"
   ]
  },
  {
   "cell_type": "code",
   "execution_count": 52,
   "metadata": {},
   "outputs": [],
   "source": [
    "def filter_hsv_to_v(hsv):\n",
    "    v = hsv[:, :, 2]\n",
    "    v = v.flatten()\n",
    "    return v"
   ]
  },
  {
   "cell_type": "code",
   "execution_count": 54,
   "metadata": {},
   "outputs": [],
   "source": [
    "def hsv_saturation_and_value_factor(rgb):\n",
    "    hsv = filter_rgb_to_hsv(rgb, display_np_info=False)\n",
    "    s = filter_hsv_to_s(hsv)\n",
    "    v = filter_hsv_to_v(hsv)\n",
    "    s_std = np.std(s)\n",
    "    v_std = np.std(v)\n",
    "    if s_std < 0.05 and v_std < 0.05:\n",
    "        factor = 0.4\n",
    "    elif s_std < 0.05:\n",
    "        factor = 0.7\n",
    "    elif v_std < 0.05:\n",
    "        factor = 0.7\n",
    "    else:\n",
    "        factor = 1\n",
    "\n",
    "    factor = factor ** 2\n",
    "    return factor"
   ]
  },
  {
   "cell_type": "code",
   "execution_count": 55,
   "metadata": {},
   "outputs": [],
   "source": [
    "def tissue_quantity_factor(amount):\n",
    "    if amount == TissueQuantity.HIGH:\n",
    "        quantity_factor = 1.0\n",
    "    elif amount == TissueQuantity.MEDIUM:\n",
    "        quantity_factor = 0.2\n",
    "    elif amount == TissueQuantity.LOW:\n",
    "        quantity_factor = 0.1\n",
    "    else:\n",
    "        quantity_factor = 0.0\n",
    "    return quantity_factor"
   ]
  },
  {
   "cell_type": "code",
   "execution_count": 38,
   "metadata": {},
   "outputs": [],
   "source": [
    "def score_tile(np_tile, tissue_percent, slide_num, row, col):\n",
    "    color_factor = hsv_purple_pink_factor(np_tile)\n",
    "    s_and_v_factor = hsv_saturation_and_value_factor(np_tile)\n",
    "    amount = tissue_quantity(tissue_percent)\n",
    "    quantity_factor = tissue_quantity_factor(amount)\n",
    "    combined_factor = color_factor * s_and_v_factor * quantity_factor\n",
    "    score = (tissue_percent ** 2) * np.log(1 + combined_factor) / 1000.0\n",
    "    score = 1.0 - (10.0 / (10.0 + score))\n",
    "    return score, color_factor, s_and_v_factor, quantity_factor"
   ]
  },
  {
   "cell_type": "code",
   "execution_count": 84,
   "metadata": {},
   "outputs": [],
   "source": [
    "def score_tiles(slide_num, np_img=None, dimensions=None, small_tile_in_tile=False):\n",
    "    if dimensions is None:\n",
    "        img_path = get_filter_image_path(slide_num)\n",
    "        o_w, o_h, w, h = get_image_dimensions(slide_num)\n",
    "    else:\n",
    "        o_w, o_h, w, h = dimensions\n",
    "\n",
    "    if np_img is None:\n",
    "        np_img = open_image_np(img_path)\n",
    "\n",
    "    row_tile_size = round(ROW_TILE_SIZE / SCALE_FACTOR)  \n",
    "    col_tile_size = round(COL_TILE_SIZE / SCALE_FACTOR)  \n",
    "\n",
    "    num_row_tiles, num_col_tiles = get_num_tiles(h, w, row_tile_size, col_tile_size)\n",
    "\n",
    "    tile_sum = TileSummary(slide_num=slide_num,\n",
    "                         orig_w=o_w,\n",
    "                         orig_h=o_h,\n",
    "                         orig_tile_w=COL_TILE_SIZE,\n",
    "                         orig_tile_h=ROW_TILE_SIZE,\n",
    "                         scaled_w=w,\n",
    "                         scaled_h=h,\n",
    "                         scaled_tile_w=col_tile_size,\n",
    "                         scaled_tile_h=row_tile_size,\n",
    "                         tissue_percentage=tissue_percent(np_img),\n",
    "                         num_col_tiles=num_col_tiles,\n",
    "                         num_row_tiles=num_row_tiles)\n",
    "\n",
    "    count = 0\n",
    "    high = 0\n",
    "    medium = 0\n",
    "    low = 0\n",
    "    none = 0\n",
    "    tile_indices = get_tile_indices(h, w, row_tile_size, col_tile_size)\n",
    "    for t in tile_indices:\n",
    "        count += 1  \n",
    "        r_s, r_e, c_s, c_e, r, c = t\n",
    "        np_tile = np_img[r_s:r_e, c_s:c_e]\n",
    "        t_p = tissue_percent(np_tile)\n",
    "        amount = tissue_quantity(t_p)\n",
    "        if amount == TissueQuantity.HIGH:\n",
    "            high += 1\n",
    "        elif amount == TissueQuantity.MEDIUM:\n",
    "            medium += 1\n",
    "        elif amount == TissueQuantity.LOW:\n",
    "            low += 1\n",
    "        elif amount == TissueQuantity.NONE:\n",
    "            none += 1\n",
    "        o_c_s, o_r_s = small_to_large_mapping((c_s, r_s), (o_w, o_h))\n",
    "        o_c_e, o_r_e = small_to_large_mapping((c_e, r_e), (o_w, o_h))\n",
    "        if (o_c_e - o_c_s) > COL_TILE_SIZE:\n",
    "            o_c_e -= 1\n",
    "        if (o_r_e - o_r_s) > ROW_TILE_SIZE:\n",
    "            o_r_e -= 1\n",
    "\n",
    "        score, color_factor, s_and_v_factor, quantity_factor = score_tile(np_tile, t_p, slide_num, r, c)\n",
    "\n",
    "        np_scaled_tile = np_tile if small_tile_in_tile else None\n",
    "        tile = Tile(tile_sum, slide_num, np_scaled_tile, count, r, c, r_s, r_e, c_s, c_e, o_r_s, o_r_e, o_c_s,\n",
    "                o_c_e, t_p, color_factor, s_and_v_factor, quantity_factor, score)\n",
    "        tile_sum.tiles.append(tile)\n",
    "\n",
    "    tile_sum.count = count\n",
    "    tile_sum.high = high\n",
    "    tile_sum.medium = medium\n",
    "    tile_sum.low = low\n",
    "    tile_sum.none = none\n",
    "\n",
    "    tiles_by_score = tile_sum.tiles_by_score()\n",
    "    rank = 0\n",
    "    for t in tiles_by_score:\n",
    "        rank += 1\n",
    "        t.rank = rank\n",
    "\n",
    "    return tile_sum"
   ]
  },
  {
   "cell_type": "code",
   "execution_count": 86,
   "metadata": {},
   "outputs": [],
   "source": [
    "def save_tile_data(tile_summary):\n",
    "    csv = summary_title(tile_summary) + \"\\n\" + summary_stats(tile_summary)\n",
    "\n",
    "    csv += \"\\n\\n\\nTile Num,Row,Column,Tissue %,Tissue Quantity,Col Start,Row Start,Col End,Row End,Col Size,Row Size,\" + \\\n",
    "             \"Original Col Start,Original Row Start,Original Col End,Original Row End,Original Col Size,Original Row Size,\" + \\\n",
    "             \"Color Factor,S and V Factor,Quantity Factor,Score\\n\"\n",
    "\n",
    "    for t in tile_summary.tiles:\n",
    "        line = \"%d,%d,%d,%4.2f,%s,%d,%d,%d,%d,%d,%d,%d,%d,%d,%d,%d,%d,%4.0f,%4.2f,%4.2f,%0.4f\\n\" % (\n",
    "          t.tile_num, t.r, t.c, t.tissue_percentage, t.tissue_quantity().name, t.c_s, t.r_s, t.c_e, t.r_e, t.c_e - t.c_s,\n",
    "          t.r_e - t.r_s, t.o_c_s, t.o_r_s, t.o_c_e, t.o_r_e, t.o_c_e - t.o_c_s, t.o_r_e - t.o_r_s, t.color_factor,\n",
    "          t.s_and_v_factor, t.quantity_factor, t.score)\n",
    "        csv += line\n",
    "\n",
    "    data_path = get_tile_data_path(tile_summary.slide_num)\n",
    "    csv_file = open(data_path, \"w\")\n",
    "    csv_file.write(csv)\n",
    "    csv_file.close()"
   ]
  },
  {
   "cell_type": "code",
   "execution_count": 91,
   "metadata": {},
   "outputs": [],
   "source": [
    "def tile_to_pil_tile(tile):\n",
    "    t = tile\n",
    "    s = open_slide(t.slide_num)\n",
    "\n",
    "    x, y = t.o_c_s, t.o_r_s\n",
    "    w, h = t.o_c_e - t.o_c_s, t.o_r_e - t.o_r_s\n",
    "    tile_region = s.read_region((x, y), 0, (w, h))\n",
    "    pil_img = tile_region.convert(\"RGB\")\n",
    "    return pil_img"
   ]
  },
  {
   "cell_type": "code",
   "execution_count": 104,
   "metadata": {},
   "outputs": [],
   "source": [
    "def get_tile_image_path(t,slide_num):\n",
    "    tile_path = os.path.join(TILE_DIR, get_train_prefix(slide_num) + \"-r%d-c%d-x%d-y%d-w%d-h%d\" % (\n",
    "                             t.r, t.c, t.o_c_s, t.o_r_s, t.o_c_e - t.o_c_s, t.o_r_e - t.o_r_s) + \".\" + DEST_TRAIN_EXT)\n",
    "    return tile_path"
   ]
  },
  {
   "cell_type": "code",
   "execution_count": 98,
   "metadata": {},
   "outputs": [],
   "source": [
    "def save_display_tile(tile, save=True, display=False):\n",
    "    tile_pil_img = tile_to_pil_tile(tile)\n",
    "    if save:\n",
    "        img_path = get_tile_image_path(tile,tile.slide_num)\n",
    "        dir = os.path.dirname(img_path)\n",
    "    if not os.path.exists(dir):\n",
    "        os.makedirs(dir)\n",
    "    tile_pil_img.save(img_path)\n",
    "\n",
    "    if display:\n",
    "        tile_pil_img.show()"
   ]
  },
  {
   "cell_type": "code",
   "execution_count": 107,
   "metadata": {},
   "outputs": [],
   "source": [
    "def summary_and_tiles(slide_num, display=True, save_summary=False, save_data=False, save_top_tiles=True):\n",
    "    img_path = get_filter_image_path(slide_num)\n",
    "    np_img = open_image_np(img_path)\n",
    "\n",
    "    tile_sum = score_tiles(slide_num, np_img)\n",
    "    if save_data:\n",
    "        save_tile_data(tile_sum)\n",
    "        generate_tile_summaries(tile_sum, np_img, display=display, save_summary=save_summary)\n",
    "        generate_top_tile_summaries(tile_sum, np_img, display=display, save_summary=save_summary)\n",
    "    if save_top_tiles:\n",
    "        for tile in tile_sum.top_tiles():\n",
    "            save_tile(tile)\n",
    "    return tile_sum"
   ]
  },
  {
   "cell_type": "code",
   "execution_count": 111,
   "metadata": {},
   "outputs": [],
   "source": [
    "def image_range_to_tiles(start_ind, end_ind, display=False, save_summary=False, save_data=False, save_top_tiles=True):\n",
    "    image_num_list = list()\n",
    "    tile_summaries_dict = dict()\n",
    "    for slide_num in range(start_ind, end_ind):\n",
    "        tile_summary = summary_and_tiles(slide_num, display, save_summary, save_data, save_top_tiles)\n",
    "        image_num_list.append(slide_num)\n",
    "        tile_summaries_dict[slide_num] = tile_summary\n",
    "    return image_num_list, tile_summaries_dict"
   ]
  },
  {
   "cell_type": "code",
   "execution_count": 114,
   "metadata": {},
   "outputs": [],
   "source": [
    "def multiprocess_filtered_images_to_tiles(display=False, save_summary=False, save_data=False, save_top_tiles=True,\n",
    "                                          html=False, image_num_list=None):\n",
    "    print(\"Generating tile summaries (multiprocess)\\n\")\n",
    "\n",
    "    if save_summary and not os.path.exists(TILE_SUMMARY_DIR):\n",
    "        os.makedirs(TILE_SUMMARY_DIR)\n",
    "\n",
    "    num_processes = multiprocessing.cpu_count()\n",
    "    pool = multiprocessing.Pool(num_processes)\n",
    "\n",
    "    if image_num_list is not None:\n",
    "        num_train_images = len(image_num_list)\n",
    "    else:\n",
    "        num_train_images = len(files)\n",
    "    if num_processes > num_train_images:\n",
    "        num_processes = num_train_images\n",
    "    images_per_process = num_train_images / num_processes\n",
    "\n",
    "    print(\"Number of processes: \" + str(num_processes))\n",
    "    print(\"Number of training images: \" + str(num_train_images))\n",
    "\n",
    "    tasks = []\n",
    "    for num_process in range(1, num_processes + 1):\n",
    "        start_index = (num_process - 1) * images_per_process \n",
    "        end_index = num_process * images_per_process\n",
    "        start_index = int(start_index)\n",
    "        end_index = int(end_index)\n",
    "        if image_num_list is not None:\n",
    "            sublist = image_num_list[start_index - 1:end_index]\n",
    "            tasks.append((sublist, display, save_summary, save_data, save_top_tiles))\n",
    "            print(\"Task #\" + str(num_process) + \": Process slides \" + str(sublist))\n",
    "        else:\n",
    "            tasks.append((start_index, end_index, display, save_summary, save_data, save_top_tiles))\n",
    "        if start_index == end_index:\n",
    "            print(\"Task #\" + str(num_process) + \": Process slide \" + str(start_index))\n",
    "        else:\n",
    "            print(\"Task #\" + str(num_process) + \": Process slides \" + str(start_index) + \" to \" + str(end_index))\n",
    "\n",
    "      # start tasks\n",
    "    results = []\n",
    "    for t in tasks:\n",
    "        if image_num_list is not None:\n",
    "            results.append(pool.apply_async(image_list_to_tiles, t))\n",
    "        else:\n",
    "            results.append(pool.apply_async(image_range_to_tiles, t))\n",
    "\n",
    "    slide_nums = list()\n",
    "    tile_summaries_dict = dict()\n",
    "    for result in results:\n",
    "        image_nums, tile_summaries = result.get()\n",
    "        slide_nums.extend(image_nums)\n",
    "        tile_summaries_dict.update(tile_summaries)\n",
    "        print(\"Done tiling slides: %s\" % image_nums)\n"
   ]
  },
  {
   "cell_type": "code",
   "execution_count": 115,
   "metadata": {},
   "outputs": [
    {
     "name": "stdout",
     "output_type": "stream",
     "text": [
      "Generating tile summaries (multiprocess)\n",
      "\n",
      "Number of processes: 8\n",
      "Number of training images: 1368\n",
      "Task #1: Process slides 0 to 171\n",
      "Task #2: Process slides 171 to 342\n",
      "Task #3: Process slides 342 to 513\n",
      "Task #4: Process slides 513 to 684\n",
      "Task #5: Process slides 684 to 855\n",
      "Task #6: Process slides 855 to 1026\n",
      "Task #7: Process slides 1026 to 1197\n",
      "Task #8: Process slides 1197 to 1368\n",
      "Done tiling slides: [0, 1, 2, 3, 4, 5, 6, 7, 8, 9, 10, 11, 12, 13, 14, 15, 16, 17, 18, 19, 20, 21, 22, 23, 24, 25, 26, 27, 28, 29, 30, 31, 32, 33, 34, 35, 36, 37, 38, 39, 40, 41, 42, 43, 44, 45, 46, 47, 48, 49, 50, 51, 52, 53, 54, 55, 56, 57, 58, 59, 60, 61, 62, 63, 64, 65, 66, 67, 68, 69, 70, 71, 72, 73, 74, 75, 76, 77, 78, 79, 80, 81, 82, 83, 84, 85, 86, 87, 88, 89, 90, 91, 92, 93, 94, 95, 96, 97, 98, 99, 100, 101, 102, 103, 104, 105, 106, 107, 108, 109, 110, 111, 112, 113, 114, 115, 116, 117, 118, 119, 120, 121, 122, 123, 124, 125, 126, 127, 128, 129, 130, 131, 132, 133, 134, 135, 136, 137, 138, 139, 140, 141, 142, 143, 144, 145, 146, 147, 148, 149, 150, 151, 152, 153, 154, 155, 156, 157, 158, 159, 160, 161, 162, 163, 164, 165, 166, 167, 168, 169, 170]\n",
      "Done tiling slides: [171, 172, 173, 174, 175, 176, 177, 178, 179, 180, 181, 182, 183, 184, 185, 186, 187, 188, 189, 190, 191, 192, 193, 194, 195, 196, 197, 198, 199, 200, 201, 202, 203, 204, 205, 206, 207, 208, 209, 210, 211, 212, 213, 214, 215, 216, 217, 218, 219, 220, 221, 222, 223, 224, 225, 226, 227, 228, 229, 230, 231, 232, 233, 234, 235, 236, 237, 238, 239, 240, 241, 242, 243, 244, 245, 246, 247, 248, 249, 250, 251, 252, 253, 254, 255, 256, 257, 258, 259, 260, 261, 262, 263, 264, 265, 266, 267, 268, 269, 270, 271, 272, 273, 274, 275, 276, 277, 278, 279, 280, 281, 282, 283, 284, 285, 286, 287, 288, 289, 290, 291, 292, 293, 294, 295, 296, 297, 298, 299, 300, 301, 302, 303, 304, 305, 306, 307, 308, 309, 310, 311, 312, 313, 314, 315, 316, 317, 318, 319, 320, 321, 322, 323, 324, 325, 326, 327, 328, 329, 330, 331, 332, 333, 334, 335, 336, 337, 338, 339, 340, 341]\n",
      "Done tiling slides: [342, 343, 344, 345, 346, 347, 348, 349, 350, 351, 352, 353, 354, 355, 356, 357, 358, 359, 360, 361, 362, 363, 364, 365, 366, 367, 368, 369, 370, 371, 372, 373, 374, 375, 376, 377, 378, 379, 380, 381, 382, 383, 384, 385, 386, 387, 388, 389, 390, 391, 392, 393, 394, 395, 396, 397, 398, 399, 400, 401, 402, 403, 404, 405, 406, 407, 408, 409, 410, 411, 412, 413, 414, 415, 416, 417, 418, 419, 420, 421, 422, 423, 424, 425, 426, 427, 428, 429, 430, 431, 432, 433, 434, 435, 436, 437, 438, 439, 440, 441, 442, 443, 444, 445, 446, 447, 448, 449, 450, 451, 452, 453, 454, 455, 456, 457, 458, 459, 460, 461, 462, 463, 464, 465, 466, 467, 468, 469, 470, 471, 472, 473, 474, 475, 476, 477, 478, 479, 480, 481, 482, 483, 484, 485, 486, 487, 488, 489, 490, 491, 492, 493, 494, 495, 496, 497, 498, 499, 500, 501, 502, 503, 504, 505, 506, 507, 508, 509, 510, 511, 512]\n",
      "Done tiling slides: [513, 514, 515, 516, 517, 518, 519, 520, 521, 522, 523, 524, 525, 526, 527, 528, 529, 530, 531, 532, 533, 534, 535, 536, 537, 538, 539, 540, 541, 542, 543, 544, 545, 546, 547, 548, 549, 550, 551, 552, 553, 554, 555, 556, 557, 558, 559, 560, 561, 562, 563, 564, 565, 566, 567, 568, 569, 570, 571, 572, 573, 574, 575, 576, 577, 578, 579, 580, 581, 582, 583, 584, 585, 586, 587, 588, 589, 590, 591, 592, 593, 594, 595, 596, 597, 598, 599, 600, 601, 602, 603, 604, 605, 606, 607, 608, 609, 610, 611, 612, 613, 614, 615, 616, 617, 618, 619, 620, 621, 622, 623, 624, 625, 626, 627, 628, 629, 630, 631, 632, 633, 634, 635, 636, 637, 638, 639, 640, 641, 642, 643, 644, 645, 646, 647, 648, 649, 650, 651, 652, 653, 654, 655, 656, 657, 658, 659, 660, 661, 662, 663, 664, 665, 666, 667, 668, 669, 670, 671, 672, 673, 674, 675, 676, 677, 678, 679, 680, 681, 682, 683]\n",
      "Done tiling slides: [684, 685, 686, 687, 688, 689, 690, 691, 692, 693, 694, 695, 696, 697, 698, 699, 700, 701, 702, 703, 704, 705, 706, 707, 708, 709, 710, 711, 712, 713, 714, 715, 716, 717, 718, 719, 720, 721, 722, 723, 724, 725, 726, 727, 728, 729, 730, 731, 732, 733, 734, 735, 736, 737, 738, 739, 740, 741, 742, 743, 744, 745, 746, 747, 748, 749, 750, 751, 752, 753, 754, 755, 756, 757, 758, 759, 760, 761, 762, 763, 764, 765, 766, 767, 768, 769, 770, 771, 772, 773, 774, 775, 776, 777, 778, 779, 780, 781, 782, 783, 784, 785, 786, 787, 788, 789, 790, 791, 792, 793, 794, 795, 796, 797, 798, 799, 800, 801, 802, 803, 804, 805, 806, 807, 808, 809, 810, 811, 812, 813, 814, 815, 816, 817, 818, 819, 820, 821, 822, 823, 824, 825, 826, 827, 828, 829, 830, 831, 832, 833, 834, 835, 836, 837, 838, 839, 840, 841, 842, 843, 844, 845, 846, 847, 848, 849, 850, 851, 852, 853, 854]\n",
      "Done tiling slides: [855, 856, 857, 858, 859, 860, 861, 862, 863, 864, 865, 866, 867, 868, 869, 870, 871, 872, 873, 874, 875, 876, 877, 878, 879, 880, 881, 882, 883, 884, 885, 886, 887, 888, 889, 890, 891, 892, 893, 894, 895, 896, 897, 898, 899, 900, 901, 902, 903, 904, 905, 906, 907, 908, 909, 910, 911, 912, 913, 914, 915, 916, 917, 918, 919, 920, 921, 922, 923, 924, 925, 926, 927, 928, 929, 930, 931, 932, 933, 934, 935, 936, 937, 938, 939, 940, 941, 942, 943, 944, 945, 946, 947, 948, 949, 950, 951, 952, 953, 954, 955, 956, 957, 958, 959, 960, 961, 962, 963, 964, 965, 966, 967, 968, 969, 970, 971, 972, 973, 974, 975, 976, 977, 978, 979, 980, 981, 982, 983, 984, 985, 986, 987, 988, 989, 990, 991, 992, 993, 994, 995, 996, 997, 998, 999, 1000, 1001, 1002, 1003, 1004, 1005, 1006, 1007, 1008, 1009, 1010, 1011, 1012, 1013, 1014, 1015, 1016, 1017, 1018, 1019, 1020, 1021, 1022, 1023, 1024, 1025]\n",
      "Done tiling slides: [1026, 1027, 1028, 1029, 1030, 1031, 1032, 1033, 1034, 1035, 1036, 1037, 1038, 1039, 1040, 1041, 1042, 1043, 1044, 1045, 1046, 1047, 1048, 1049, 1050, 1051, 1052, 1053, 1054, 1055, 1056, 1057, 1058, 1059, 1060, 1061, 1062, 1063, 1064, 1065, 1066, 1067, 1068, 1069, 1070, 1071, 1072, 1073, 1074, 1075, 1076, 1077, 1078, 1079, 1080, 1081, 1082, 1083, 1084, 1085, 1086, 1087, 1088, 1089, 1090, 1091, 1092, 1093, 1094, 1095, 1096, 1097, 1098, 1099, 1100, 1101, 1102, 1103, 1104, 1105, 1106, 1107, 1108, 1109, 1110, 1111, 1112, 1113, 1114, 1115, 1116, 1117, 1118, 1119, 1120, 1121, 1122, 1123, 1124, 1125, 1126, 1127, 1128, 1129, 1130, 1131, 1132, 1133, 1134, 1135, 1136, 1137, 1138, 1139, 1140, 1141, 1142, 1143, 1144, 1145, 1146, 1147, 1148, 1149, 1150, 1151, 1152, 1153, 1154, 1155, 1156, 1157, 1158, 1159, 1160, 1161, 1162, 1163, 1164, 1165, 1166, 1167, 1168, 1169, 1170, 1171, 1172, 1173, 1174, 1175, 1176, 1177, 1178, 1179, 1180, 1181, 1182, 1183, 1184, 1185, 1186, 1187, 1188, 1189, 1190, 1191, 1192, 1193, 1194, 1195, 1196]\n",
      "Done tiling slides: [1197, 1198, 1199, 1200, 1201, 1202, 1203, 1204, 1205, 1206, 1207, 1208, 1209, 1210, 1211, 1212, 1213, 1214, 1215, 1216, 1217, 1218, 1219, 1220, 1221, 1222, 1223, 1224, 1225, 1226, 1227, 1228, 1229, 1230, 1231, 1232, 1233, 1234, 1235, 1236, 1237, 1238, 1239, 1240, 1241, 1242, 1243, 1244, 1245, 1246, 1247, 1248, 1249, 1250, 1251, 1252, 1253, 1254, 1255, 1256, 1257, 1258, 1259, 1260, 1261, 1262, 1263, 1264, 1265, 1266, 1267, 1268, 1269, 1270, 1271, 1272, 1273, 1274, 1275, 1276, 1277, 1278, 1279, 1280, 1281, 1282, 1283, 1284, 1285, 1286, 1287, 1288, 1289, 1290, 1291, 1292, 1293, 1294, 1295, 1296, 1297, 1298, 1299, 1300, 1301, 1302, 1303, 1304, 1305, 1306, 1307, 1308, 1309, 1310, 1311, 1312, 1313, 1314, 1315, 1316, 1317, 1318, 1319, 1320, 1321, 1322, 1323, 1324, 1325, 1326, 1327, 1328, 1329, 1330, 1331, 1332, 1333, 1334, 1335, 1336, 1337, 1338, 1339, 1340, 1341, 1342, 1343, 1344, 1345, 1346, 1347, 1348, 1349, 1350, 1351, 1352, 1353, 1354, 1355, 1356, 1357, 1358, 1359, 1360, 1361, 1362, 1363, 1364, 1365, 1366, 1367]\n"
     ]
    }
   ],
   "source": [
    "multiprocess_filtered_images_to_tiles()"
   ]
  },
  {
   "cell_type": "code",
   "execution_count": 75,
   "metadata": {},
   "outputs": [],
   "source": [
    "class TileSummary:\n",
    "  \n",
    "\n",
    "    slide_num = None\n",
    "    orig_w = None\n",
    "    orig_h = None\n",
    "    orig_tile_w = None\n",
    "    orig_tile_h = None\n",
    "    scale_factor = SCALE_FACTOR\n",
    "    scaled_w = None\n",
    "    scaled_h = None\n",
    "    scaled_tile_w = None\n",
    "    scaled_tile_h = None\n",
    "    mask_percentage = None\n",
    "    num_row_tiles = None\n",
    "    num_col_tiles = None\n",
    "\n",
    "    count = 0\n",
    "    high = 0\n",
    "    medium = 0\n",
    "    low = 0\n",
    "    none = 0\n",
    "\n",
    "    def __init__(self, slide_num, orig_w, orig_h, orig_tile_w, orig_tile_h, scaled_w, scaled_h, scaled_tile_w,\n",
    "                   scaled_tile_h, tissue_percentage, num_col_tiles, num_row_tiles):\n",
    "        self.slide_num = slide_num\n",
    "        self.orig_w = orig_w\n",
    "        self.orig_h = orig_h\n",
    "        self.orig_tile_w = orig_tile_w\n",
    "        self.orig_tile_h = orig_tile_h\n",
    "        self.scaled_w = scaled_w\n",
    "        self.scaled_h = scaled_h\n",
    "        self.scaled_tile_w = scaled_tile_w\n",
    "        self.scaled_tile_h = scaled_tile_h\n",
    "        self.tissue_percentage = tissue_percentage\n",
    "        self.num_col_tiles = num_col_tiles\n",
    "        self.num_row_tiles = num_row_tiles\n",
    "        self.tiles = []\n",
    "\n",
    "    def __str__(self):\n",
    "        return summary_title(self) + \"\\n\" + summary_stats(self)\n",
    "\n",
    "    def mask_percentage(self):\n",
    "        return 100 - self.tissue_percentage\n",
    "\n",
    "    def num_tiles(self):\n",
    "        return self.num_row_tiles * self.num_col_tiles\n",
    "\n",
    "    def tiles_by_tissue_percentage(self):\n",
    "        sorted_list = sorted(self.tiles, key=lambda t: t.tissue_percentage, reverse=True)\n",
    "        return sorted_list\n",
    "\n",
    "    def tiles_by_score(self):\n",
    "        sorted_list = sorted(self.tiles, key=lambda t: t.score, reverse=True)\n",
    "        return sorted_list\n",
    "\n",
    "    def top_tiles(self):\n",
    "        sorted_tiles = self.tiles_by_score()\n",
    "        top_tiles = sorted_tiles[:NUM_TOP_TILES]\n",
    "        return top_tiles\n",
    "\n",
    "    def get_tile(self, row, col):\n",
    "        tile_index = (row - 1) * self.num_col_tiles + (col - 1)\n",
    "        tile = self.tiles[tile_index]\n",
    "        return tile\n",
    "\n",
    "    def display_summaries(self):\n",
    "        summary_and_tiles(self.slide_num, display=True, save_summary=False, save_data=False, save_top_tiles=False)"
   ]
  },
  {
   "cell_type": "code",
   "execution_count": 74,
   "metadata": {},
   "outputs": [],
   "source": [
    "class Tile:\n",
    "    def __init__(self, tile_summary, slide_num, np_scaled_tile, tile_num, r, c, r_s, r_e, c_s, c_e, o_r_s, o_r_e, o_c_s,\n",
    "                 o_c_e, t_p, color_factor, s_and_v_factor, quantity_factor, score):\n",
    "        self.tile_summary = tile_summary\n",
    "        self.slide_num = slide_num\n",
    "        self.np_scaled_tile = np_scaled_tile\n",
    "        self.tile_num = tile_num\n",
    "        self.r = r\n",
    "        self.c = c\n",
    "        self.r_s = r_s\n",
    "        self.r_e = r_e\n",
    "        self.c_s = c_s\n",
    "        self.c_e = c_e\n",
    "        self.o_r_s = o_r_s\n",
    "        self.o_r_e = o_r_e\n",
    "        self.o_c_s = o_c_s\n",
    "        self.o_c_e = o_c_e\n",
    "        self.tissue_percentage = t_p\n",
    "        self.color_factor = color_factor\n",
    "        self.s_and_v_factor = s_and_v_factor\n",
    "        self.quantity_factor = quantity_factor\n",
    "        self.score = score\n",
    "\n",
    "    def __str__(self):\n",
    "        return \"[Tile #%d, Row #%d, Column #%d, Tissue %4.2f%%, Score %0.4f]\" % (\n",
    "          self.tile_num, self.r, self.c, self.tissue_percentage, self.score)\n",
    "\n",
    "    def __repr__(self):\n",
    "        return \"\\n\" + self.__str__()\n",
    "\n",
    "    def mask_percentage(self):\n",
    "        return 100 - self.tissue_percentage\n",
    "\n",
    "    def tissue_quantity(self):\n",
    "        return tissue_quantity(self.tissue_percentage)\n",
    "\n",
    "    def get_pil_tile(self):\n",
    "        return tile_to_pil_tile(self)\n",
    "\n",
    "    def get_np_tile(self):\n",
    "        return tile_to_np_tile(self)\n",
    "\n",
    "    def save_tile(self):\n",
    "        save_display_tile(self, save=True, display=False)\n",
    "\n",
    "    def display_tile(self):\n",
    "        save_display_tile(self, save=False, display=True)\n",
    "\n",
    "    def display_with_histograms(self):\n",
    "        display_tile(self, rgb_histograms=True, hsv_histograms=True)\n",
    "\n",
    "    def get_np_scaled_tile(self):\n",
    "        return self.np_scaled_tile\n",
    "\n",
    "    def get_pil_scaled_tile(self):\n",
    "        return np_to_pil(self.np_scaled_tile)"
   ]
  },
  {
   "cell_type": "code",
   "execution_count": 65,
   "metadata": {
    "pycharm": {
     "is_executing": false
    }
   },
   "outputs": [],
   "source": [
    "class TissueQuantity(Enum):\n",
    "    NONE = 0\n",
    "    LOW = 1\n",
    "    MEDIUM = 2\n",
    "    HIGH = 3"
   ]
  },
  {
   "cell_type": "code",
   "execution_count": null,
   "metadata": {
    "pycharm": {
     "name": "#%%\n"
    }
   },
   "outputs": [],
   "source": []
  },
  {
   "cell_type": "code",
   "execution_count": null,
   "metadata": {},
   "outputs": [],
   "source": []
  },
  {
   "cell_type": "code",
   "execution_count": null,
   "metadata": {},
   "outputs": [],
   "source": [
    "\n"
   ]
  },
  {
   "cell_type": "code",
   "execution_count": null,
   "metadata": {},
   "outputs": [],
   "source": []
  },
  {
   "cell_type": "code",
   "execution_count": null,
   "metadata": {},
   "outputs": [],
   "source": []
  },
  {
   "cell_type": "code",
   "execution_count": null,
   "metadata": {},
   "outputs": [],
   "source": [
    "\n"
   ]
  },
  {
   "cell_type": "code",
   "execution_count": null,
   "metadata": {},
   "outputs": [],
   "source": []
  },
  {
   "cell_type": "code",
   "execution_count": null,
   "metadata": {},
   "outputs": [],
   "source": []
  },
  {
   "cell_type": "code",
   "execution_count": null,
   "metadata": {},
   "outputs": [],
   "source": []
  },
  {
   "cell_type": "code",
   "execution_count": null,
   "metadata": {},
   "outputs": [],
   "source": []
  },
  {
   "cell_type": "code",
   "execution_count": null,
   "metadata": {},
   "outputs": [],
   "source": []
  },
  {
   "cell_type": "code",
   "execution_count": null,
   "metadata": {},
   "outputs": [],
   "source": []
  }
 ],
 "metadata": {
  "kernelspec": {
   "display_name": "Python 3",
   "language": "python",
   "name": "python3"
  },
  "language_info": {
   "codemirror_mode": {
    "name": "ipython",
    "version": 3
   },
   "file_extension": ".py",
   "mimetype": "text/x-python",
   "name": "python",
   "nbconvert_exporter": "python",
   "pygments_lexer": "ipython3",
   "version": "3.7.4"
  },
  "pycharm": {
   "stem_cell": {
    "cell_type": "raw",
    "metadata": {
     "collapsed": false
    },
    "source": []
   }
  }
 },
 "nbformat": 4,
 "nbformat_minor": 1
}
