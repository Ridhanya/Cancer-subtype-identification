{
 "cells": [
  {
   "cell_type": "code",
   "execution_count": 10,
   "metadata": {
    "pycharm": {
     "is_executing": false
    }
   },
   "outputs": [],
   "source": [
    "from __future__ import absolute_import, division, print_function, unicode_literals\n",
    "import glob\n",
    "import sys\n",
    "import os\n",
    "\n",
    "\n",
    "from Run_StainSep import run_stainsep\n",
    "from Run_ColorNorm import run_colornorm, run_batch_colornorm\n"
   ]
  },
  {
   "cell_type": "code",
   "execution_count": 11,
   "metadata": {
    "pycharm": {
     "name": "#%%\n"
    }
   },
   "outputs": [],
   "source": [
    "os.environ['TF_CPP_MIN_LOG_LEVEL']='3'\n",
    "os.environ['CUDA_VISIBLE_DEVICES'] = '1'"
   ]
  },
  {
   "cell_type": "code",
   "execution_count": 13,
   "metadata": {},
   "outputs": [
    {
     "data": {
      "text/plain": [
       "[]"
      ]
     },
     "execution_count": 13,
     "metadata": {},
     "output_type": "execute_result"
    }
   ],
   "source": [
    "import tensorflow as tf\n",
    "tf.config.list_physical_devices('GPU')"
   ]
  },
  {
   "cell_type": "code",
   "execution_count": 6,
   "metadata": {},
   "outputs": [],
   "source": [
    "nstains=2  \n",
    "lamb=0.01\n",
    "op=0"
   ]
  },
  {
   "cell_type": "code",
   "execution_count": 8,
   "metadata": {},
   "outputs": [
    {
     "name": "stdout",
     "output_type": "stream",
     "text": [
      "/home/deepakanand/Downloads/registered_data_for_color_normalization/1HE.tif\n"
     ]
    },
    {
     "ename": "NameError",
     "evalue": "name 'run_stainsep' is not defined",
     "output_type": "error",
     "traceback": [
      "\u001b[0;31m---------------------------------------------------------------------------\u001b[0m",
      "\u001b[0;31mNameError\u001b[0m                                 Traceback (most recent call last)",
      "\u001b[0;32m<ipython-input-8-971c78ba82b4>\u001b[0m in \u001b[0;36m<module>\u001b[0;34m\u001b[0m\n\u001b[1;32m      4\u001b[0m     \u001b[0mfilename\u001b[0m\u001b[0;34m=\u001b[0m\u001b[0;34m\"/home/deepakanand/Downloads/registered_data_for_color_normalization/1HE.tif\"\u001b[0m\u001b[0;34m\u001b[0m\u001b[0;34m\u001b[0m\u001b[0m\n\u001b[1;32m      5\u001b[0m     \u001b[0mprint\u001b[0m \u001b[0;34m(\u001b[0m\u001b[0mfilename\u001b[0m\u001b[0;34m)\u001b[0m\u001b[0;34m\u001b[0m\u001b[0;34m\u001b[0m\u001b[0m\n\u001b[0;32m----> 6\u001b[0;31m     \u001b[0mrun_stainsep\u001b[0m\u001b[0;34m(\u001b[0m\u001b[0mfilename\u001b[0m\u001b[0;34m,\u001b[0m\u001b[0mnstains\u001b[0m\u001b[0;34m,\u001b[0m\u001b[0mlamb\u001b[0m\u001b[0;34m)\u001b[0m\u001b[0;34m\u001b[0m\u001b[0;34m\u001b[0m\u001b[0m\n\u001b[0m\u001b[1;32m      7\u001b[0m \u001b[0;34m\u001b[0m\u001b[0m\n\u001b[1;32m      8\u001b[0m \u001b[0;34m\u001b[0m\u001b[0m\n",
      "\u001b[0;31mNameError\u001b[0m: name 'run_stainsep' is not defined"
     ]
    }
   ],
   "source": [
    "if op==0:\n",
    "    filename=\"/home/deepakanand/Downloads/registered_data_for_color_normalization/1HE.tif\"\n",
    "    print (filename)\n",
    "    run_stainsep(filename,nstains,lamb)\n",
    "\n",
    "\n",
    "elif op==1:\n",
    "    input_direc=\"./deepak_he/\"\n",
    "    output_direc=\"./stain_separated/\"\n",
    "    if not os.path.exists(output_direc):\n",
    "        os.makedirs(output_direc)\n",
    "    file_type=\"*\"\n",
    "    if len(sorted(glob.glob(input_direc+file_type)))==0:\n",
    "        print (\"No source files found\")\n",
    "        sys.exit()\n",
    "    filenames=sorted(glob.glob(input_direc+file_type))\n",
    "    print (filenames)\n",
    "    for filename in filenames:\n",
    "        run_stainsep(filename,nstains,lamb,output_direc=output_direc)\n",
    "\n",
    "\n",
    "elif op==2:\n",
    "    level=0\n",
    "    output_direc=\"./new_tests/\"\n",
    "    if not os.path.exists(output_direc):\n",
    "        os.makedirs(output_direc)\n",
    "\n",
    "    source_filename=\"./Test/WSI/57_HE: 10000x11534.png\"\n",
    "    target_filename=\"./Target/TCGA-E2-A14V-01Z-00-DX1.tif\"\n",
    "\n",
    "    if not os.path.exists(source_filename):\n",
    "        print (\"Source file does not exist\")\n",
    "        sys.exit()\n",
    "    if not os.path.exists(target_filename):\n",
    "        print (\"Target file does not exist\")\n",
    "        sys.exit()\n",
    "    background_correction = True\n",
    "    run_colornorm(source_filename,target_filename,nstains,lamb,output_direc,level,background_correction,config=config)\n",
    "\n",
    "\n",
    "elif op==3:\n",
    "    level=0\n",
    "\n",
    "\n",
    "    input_direc=\"../Test/WSI patches/\"\n",
    "    output_direc=\"./new_tests_WSI/GPU/\"\n",
    "    if not os.path.exists(output_direc):\n",
    "        os.makedirs(output_direc)\n",
    "    file_type=\"*.*\"\n",
    "    target_filename=\"../Target/TCGA-E2-A14V-01Z-00-DX1.tif\"\n",
    "    if not os.path.exists(target_filename):\n",
    "        print (\"Target file does not exist\")\n",
    "        sys.exit()\n",
    "    if len(sorted(glob.glob(input_direc+file_type)))==0:\n",
    "        print (\"No source files found\")\n",
    "        sys.exit()\n",
    "    filenames=[target_filename]+sorted(glob.glob(input_direc+file_type))\n",
    "\n",
    "    background_correction = True\n",
    "    run_batch_colornorm(filenames,nstains,lamb,output_direc,level,background_correction,config)\n"
   ]
  },
  {
   "cell_type": "code",
   "execution_count": null,
   "metadata": {},
   "outputs": [],
   "source": []
  }
 ],
 "metadata": {
  "kernelspec": {
   "display_name": "Python 3",
   "language": "python",
   "name": "python3"
  },
  "language_info": {
   "codemirror_mode": {
    "name": "ipython",
    "version": 3
   },
   "file_extension": ".py",
   "mimetype": "text/x-python",
   "name": "python",
   "nbconvert_exporter": "python",
   "pygments_lexer": "ipython3",
   "version": "3.7.6"
  },
  "pycharm": {
   "stem_cell": {
    "cell_type": "raw",
    "metadata": {
     "collapsed": false
    },
    "source": []
   }
  }
 },
 "nbformat": 4,
 "nbformat_minor": 1
}
